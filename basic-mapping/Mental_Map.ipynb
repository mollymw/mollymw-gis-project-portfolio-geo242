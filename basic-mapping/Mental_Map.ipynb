{
  "nbformat": 4,
  "nbformat_minor": 0,
  "metadata": {
    "colab": {
      "provenance": [],
      "toc_visible": true,
      "include_colab_link": true
    },
    "kernelspec": {
      "name": "python3",
      "display_name": "Python 3"
    },
    "language_info": {
      "name": "python"
    }
  },
  "cells": [
    {
      "cell_type": "markdown",
      "metadata": {
        "id": "view-in-github",
        "colab_type": "text"
      },
      "source": [
        "<a href=\"https://colab.research.google.com/github/mollymw/mollymw-gis-project-portfolio-geo242/blob/main/basic-mapping/Mental_Map.ipynb\" target=\"_parent\"><img src=\"https://colab.research.google.com/assets/colab-badge.svg\" alt=\"Open In Colab\"/></a>"
      ]
    },
    {
      "cell_type": "markdown",
      "source": [
        "## **GEO 242A Week 1 Assignment: Mental Map**"
      ],
      "metadata": {
        "id": "C0ymCPR5aSHN"
      }
    },
    {
      "cell_type": "markdown",
      "source": [
        "🚀 Created by [Molly Weeldreyer]\n",
        "\n",
        "[08/28/2024]"
      ],
      "metadata": {
        "id": "Pt_OREXFPvkr"
      }
    },
    {
      "cell_type": "markdown",
      "source": [
        "### **Get ready to start**\n",
        "\n",
        "- Use **`File\\Save a copy in Drive`** to make a copy of this notebook in my own Google Drive\n",
        "- By default, this notebooks will be saved to a new folder called **`Colab`** under root directory of my Google Drive"
      ],
      "metadata": {
        "id": "v84Fkx0LHARM"
      }
    },
    {
      "cell_type": "markdown",
      "source": [
        "### **My mental map of Miami University**\n",
        "\n",
        "1. **Create a mental map**\n",
        "   - Draw a mental map of Miami University Oxford Campus and/or City of Oxford on a piece of paper (or in your computer)\n",
        "\n",
        "2. **Share map**\n",
        "   - Take a picture of my mental map if drawn on paper\n",
        "   - Upload the picture of my mental map to my Google Drive folder for Week 1 assignment\n",
        "   - Change Share privilege to make this file viewable by anyone with a link\n",
        "   - Copy the sharable link\n",
        "\n",
        "   ```markdown\n",
        "   https://drive.google.com/file/d/1Yq-ZyNYvqL1LA0Qa85OAyJnqdV1Oe3xj/view?usp=sharing\n",
        "   ```\n",
        "\n",
        "3. **Obtain a shareable link**\n",
        "\n",
        "   - The default link I get for this picture file cannot be directly used in Notebook to show the picture correctly\n",
        "   - I made some changes to the default sharable link:\n",
        "    - Keep the **`1A2B3C4D5E6F7G8H9I0J`** part because this is the unique file ID for the picture\n",
        "    - Deleted **`/view?usp=sharing`** at the end of the link\n",
        "    - Replaced **`/file/d/`** with **`/uc?export=view&id=`**\n",
        "   - Here is an example I referred to:\n",
        "    - Default sharable link\n",
        "```\n",
        "https://drive.google.com/file/d/1A2B3C4D5E6F7G8H9I0J/view?usp=sharing\n",
        "```\n",
        "    - The direct link for view from this example would be\n",
        "```\n",
        "https://drive.google.com/uc?export=view&id=1A2B3C4D5E6F7G8H9I0J\n",
        "```\n",
        "   - The link below is the correct one I need to use in the next section\n",
        "```\n",
        "https://drive.google.com/uc?export=view&id=1Yq-ZyNYvqL1LA0Qa85OAyJnqdV1Oe3xj\n",
        "```\n",
        "\n",
        "\n",
        "4. **Mental map**\n",
        "\n",
        "   ![Map](https://drive.google.com/uc?export=view&id=1Yq-ZyNYvqL1LA0Qa85OAyJnqdV1Oe3xj) <!-- Replace link with the link generated above to insert your mental map -->"
      ],
      "metadata": {
        "id": "WVs4J1jQbESU"
      }
    },
    {
      "cell_type": "markdown",
      "source": [
        "### **Reflection on my first experience with QGIS**\n",
        "\n",
        "- Here is a table showing things that I felt excited and challenged in my first experience working in markdown\n",
        "\n",
        "| Things I'm excited about      | Things challenging for me  |\n",
        "| ----------------------------- | -------------------------- |\n",
        "| learning how to better understand types of maps     | ensuring that all of my coding/writing is correct (i.e. not typing in the wrong letter)  |\n",
        "| using different commands/organization tools in Google Collab     | being comfortable navigating new types of assignments    |\n",
        "| learning how to formate my own maps to display data     | making sure that I am completing each step properly   |\n",
        "\n",
        "- Here is how I rate my first experience working in markdown\n",
        "  - Formatting and organization functionality\n",
        "    - I really enjoyed learning about the formatting of Google Collab. I found it to be very satisfying to see my code turn into text and achieve the desired outcome. I also found the organization of Google Collab to be relatively easy to understand. I was able to quickly and easily move from place to place while working.\n",
        "  - Navigate the tool using its GUI\n",
        "    - For me navigating Google Collab using its GUI was relatively easy and intuitive. I do have some previous experience with code, so there was definitely some comfort in knowing what to do and where to find what I needed."
      ],
      "metadata": {
        "id": "i4RTLellbUh7"
      }
    },
    {
      "cell_type": "markdown",
      "source": [
        "### **Save and share this notebook**\n",
        "\n",
        "- I made this notebook viewable by anyone with the link\n",
        "\n",
        "![Share Notebook](https://drive.google.com/uc?export=view&id=1K4a3saeAXrzKcB4fkivkjUmLLWJ1R7oS)\n",
        "\n",
        "- Then I copied this link to submit to the [Canvas assignment](https://miamioh.instructure.com/courses/222781/assignments/2887539)"
      ],
      "metadata": {
        "id": "kkgukjDcXsqC"
      }
    },
    {
      "cell_type": "markdown",
      "source": [
        "### **Reference**\n",
        "\n",
        "- [Markdown cheat sheet](https://www.markdownguide.org/cheat-sheet/)\n",
        "- [Insert other references if available]"
      ],
      "metadata": {
        "id": "fvMbEX89YLeY"
      }
    }
  ]
}