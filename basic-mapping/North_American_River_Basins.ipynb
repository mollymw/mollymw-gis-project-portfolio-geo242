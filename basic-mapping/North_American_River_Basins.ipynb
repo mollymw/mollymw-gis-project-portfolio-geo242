{
  "nbformat": 4,
  "nbformat_minor": 0,
  "metadata": {
    "colab": {
      "provenance": [],
      "include_colab_link": true
    },
    "kernelspec": {
      "name": "python3",
      "display_name": "Python 3"
    },
    "language_info": {
      "name": "python"
    }
  },
  "cells": [
    {
      "cell_type": "markdown",
      "metadata": {
        "id": "view-in-github",
        "colab_type": "text"
      },
      "source": [
        "<a href=\"https://colab.research.google.com/github/mollymw/mollymw-gis-project-portfolio-geo242/blob/main/basic-mapping/North_American_River_Basins.ipynb\" target=\"_parent\"><img src=\"https://colab.research.google.com/assets/colab-badge.svg\" alt=\"Open In Colab\"/></a>"
      ]
    },
    {
      "cell_type": "markdown",
      "source": [
        "## **GEO 242A Week 2 Assignment: Cartography**"
      ],
      "metadata": {
        "id": "C0ymCPR5aSHN"
      }
    },
    {
      "cell_type": "markdown",
      "source": [
        "🚀 Created by Molly Weeldreyer\n",
        "\n",
        "09/10/2024"
      ],
      "metadata": {
        "id": "Pt_OREXFPvkr"
      }
    },
    {
      "cell_type": "markdown",
      "source": [
        "### **Get ready to start**\n",
        "\n",
        "- Use **`File\\Save a copy in Drive`** to make a copy of this notebook in my own Google Drive\n",
        "- By default, this notebooks will be saved to a new folder called **`Colab`** under root directory of my Google Drive"
      ],
      "metadata": {
        "id": "v84Fkx0LHARM"
      }
    },
    {
      "cell_type": "markdown",
      "source": [
        "### **Map North American Rivers and Basins**\n",
        "\n",
        "1. **Original shareable link of the map**\n",
        "\n",
        "```markdown\n",
        "https://drive.google.com/file/d/1iyX2WqyDeE167NRHhl8rZ7ULSMGV9rs4/view?usp=sharing\n",
        "```\n",
        "\n",
        "2. **Obtain a shareable link**\n",
        "\n",
        "   - The default link I get for this picture file cannot be directly used in Notebook to show the picture correctly\n",
        "   - I made some changes to the default sharable link:\n",
        "    - Deleted **`/view?usp=sharing`** at the end of the link\n",
        "    - Replaced **`/file/d/`** with **`/uc?export=view&id=`**\n",
        "   - Below is a link I can use to insert a picture in Google Colab notebook\n",
        "\n",
        "```markdown\n",
        "https://drive.google.com/uc?export=view&id=1iyX2WqyDeE167NRHhl8rZ7ULSMGV9rs4\n",
        "```\n",
        "\n",
        "3. **Map of North American Rivers and Basins**\n",
        "  - Use the link above and the syntax in [this link](https://www.markdownguide.org/cheat-sheet/), I can insert the map I prepared down here\n",
        "\n",
        "![North America River Basin](https://drive.google.com/uc?export=view&id=1iyX2WqyDeE167NRHhl8rZ7ULSMGV9rs4)"
      ],
      "metadata": {
        "id": "WVs4J1jQbESU"
      }
    },
    {
      "cell_type": "markdown",
      "source": [
        "### **Reflection on my first experience mapping with QGIS**\n",
        "\n",
        "- I spent 1 hour to make my first map in QGIS\n",
        "- Here is how I rate my first experience working in markdown\n",
        "  - Data managaement and organization\n",
        "    - My rating would be a 9/10\n",
        "    - The data was relatively easy to find and put into the software, there were a few moments where I was a bit confused about what was happening, but it was easy enough to figure it out.\n",
        "    - Once I started using it everything made a lot of sense and I found the the process going by much faster.\n",
        "  - Cartographic functionalities, including changing colors/symbols of layers, adding map elements, exporting a map\n",
        "    - My rating would be a 10/10\n",
        "    - I didn't have a problem navigating this part and everything was fairly intuitive, I was able to move between screens and export my map with ease.\n",
        "    - I appreciated the simplicity of the organization and how easy it was to change the colors and locations of data sets."
      ],
      "metadata": {
        "id": "i4RTLellbUh7"
      }
    },
    {
      "cell_type": "markdown",
      "source": [
        "### **Save and share this notebook**\n",
        "\n",
        "- Below is a publicly viewable link to this notebook\n",
        "\n",
        "```markdown\n",
        "https://colab.research.google.com/drive/1By35HOMEH4iPNTAr9JZn-AbwLyTgGYxb?usp=sharing\n",
        "```"
      ],
      "metadata": {
        "id": "kkgukjDcXsqC"
      }
    },
    {
      "cell_type": "markdown",
      "source": [
        "### **Reference**\n",
        "\n",
        "- [Markdown cheat sheet](https://www.markdownguide.org/cheat-sheet/)\n",
        "- [Insert other references if available]"
      ],
      "metadata": {
        "id": "fvMbEX89YLeY"
      }
    }
  ]
}