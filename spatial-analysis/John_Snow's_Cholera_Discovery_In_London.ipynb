{
  "nbformat": 4,
  "nbformat_minor": 0,
  "metadata": {
    "colab": {
      "provenance": [],
      "toc_visible": true,
      "include_colab_link": true
    },
    "kernelspec": {
      "name": "python3",
      "display_name": "Python 3"
    },
    "language_info": {
      "name": "python"
    }
  },
  "cells": [
    {
      "cell_type": "markdown",
      "metadata": {
        "id": "view-in-github",
        "colab_type": "text"
      },
      "source": [
        "<a href=\"https://colab.research.google.com/github/mollymw/mollymw-gis-project-portfolio-geo242/blob/main/spatial-analysis/John_Snow's_Cholera_Discovery_In_London.ipynb\" target=\"_parent\"><img src=\"https://colab.research.google.com/assets/colab-badge.svg\" alt=\"Open In Colab\"/></a>"
      ]
    },
    {
      "cell_type": "markdown",
      "source": [
        "# **Replicating John Snow's discovery on the cause of cholera spread in Soho, London**"
      ],
      "metadata": {
        "id": "C0ymCPR5aSHN"
      }
    },
    {
      "cell_type": "markdown",
      "source": [
        "🚀 Created by Molly Weeldreyer\n",
        "\n",
        "10/4/2024"
      ],
      "metadata": {
        "id": "Pt_OREXFPvkr"
      }
    },
    {
      "cell_type": "markdown",
      "source": [
        "## **Get ready to start**\n",
        "\n",
        "- Click **`File/Save a copy in Drive`** to save a copy of this notebook to my own Google Drive"
      ],
      "metadata": {
        "id": "CMQN_pgaHVLO"
      }
    },
    {
      "cell_type": "markdown",
      "source": [
        "## **Overview**\n",
        "\n",
        "- This notebook shows three maps created based on geospatial data to replicate Dr. John Snow's discovery on the root cause of the spread of cholera in London during 1850s, a prime example of geospatial analysis and the onset of the epidemology.\n",
        "\n",
        "    <div>\n",
        "    <img src=\"https://adventuresinmapping.com/wp-content/uploads/2023/12/johnsnowcholeramap.png\" width= 700px />\n",
        "    </div>"
      ],
      "metadata": {
        "id": "6tKmlbnzny_I"
      }
    },
    {
      "cell_type": "markdown",
      "source": [
        "## **Map 1: Number of addresses with cholera deaths reported**"
      ],
      "metadata": {
        "id": "knQezaT0XILw"
      }
    },
    {
      "cell_type": "markdown",
      "source": [
        "- Use the checklist below to make sure our map contains all necessary map content and is formatted correctly\n",
        "\n",
        "  - [ ] Contains a title with byline (i.e., by [your name])\n",
        "  - [ ] Use a larger and bold font type for the title\n",
        "  - [ ] Contains a layer of **pumps**\n",
        "  - [ ] Contains a layer of **100 meter buffer around pump**\n",
        "  - [ ] The buffer layer is mapped by the **count of addressed where cholera deaths were reported**\n",
        "  - [ ] Contains a map scale\n",
        "  - [ ] Contains a legend\n",
        "  - [ ] Contains a north arrow\n",
        "  - [ ] Uses a balanced layout for all map elements\n",
        "    - [ ] Map stays in the center of layout\n",
        "    - [ ] Font size of title is appropriate (not too big or too small)\n",
        "    - [ ] Legend, map scale bar, and north arrow are placed appropriately to avoid an overlap with the map layers\n",
        "    - [ ] Legend, map scale bar, and north arrow has an appropriate size (big enough to read information, small enough to reserve most of space for map layers"
      ],
      "metadata": {
        "id": "pUt-AcN56NmX"
      }
    },
    {
      "cell_type": "markdown",
      "source": [
        "```markdown\n",
        "https://drive.google.com/file/d/1jbtGcXskmipBoyQyWf45Q01ZO2z6xMtr/view?usp=sharing\n",
        "```\n",
        "\n",
        "- After finishing the two steps below, a link can be created to correctly rendered in Google Colab\n",
        "  - Deleted **`/view?usp=sharing`** at the end of the link\n",
        "  - Replaced **`/file/d/`** with **`/uc?export=view&id=`**\n",
        "\n",
        "```markdown\n",
        "https://drive.google.com/uc?export=view&id=1jbtGcXskmipBoyQyWf45Q01ZO2z6xMtr\n",
        "```\n",
        "\n",
        "- The map can be inserted in Google Colab following the syntax [from here](https://www.markdownguide.org/cheat-sheet/)\n",
        "\n",
        "```markdown\n",
        "Insert the map here using syntax:\n",
        "![address with cholera deaths](https://drive.google.com/uc?export=view&id=1jbtGcXskmipBoyQyWf45Q01ZO2z6xMtr)\n",
        "```\n",
        "\n",
        "![address with cholera deaths](https://drive.google.com/uc?export=view&id=1jbtGcXskmipBoyQyWf45Q01ZO2z6xMtr)"
      ],
      "metadata": {
        "id": "pEt8eG3wXiio"
      }
    },
    {
      "cell_type": "markdown",
      "source": [
        "## **Map 2: Number of deaths related to cholera in Soho, London**"
      ],
      "metadata": {
        "id": "1_9kgv7nWPi0"
      }
    },
    {
      "cell_type": "markdown",
      "source": [
        "- Use the checklist below to make sure our map contains all necessary map content and is formatted correctly\n",
        "\n",
        "  - [ ] Contains a title with byline (i.e., by [your name])\n",
        "  - [ ] Use a larger and bold font type for the title\n",
        "  - [ ] Contains a layer of **pumps**\n",
        "  - [ ] Contains a layer of **100 meter buffer around pump**\n",
        "  - [ ] The buffer layer is mapped by the **count of reported deaths related to cholera**\n",
        "  - [ ] Contains a map scale\n",
        "  - [ ] Contains a legend\n",
        "  - [ ] Contains a north arrow\n",
        "  - [ ] Uses a balanced layout for all map elements\n",
        "    - [ ] Map stays in the center of layout\n",
        "    - [ ] Font size of title is appropriate (not too big or too small)\n",
        "    - [ ] Legend, map scale bar, and north arrow are placed appropriately to avoid an overlap with the map layers\n",
        "    - [ ] Legend, map scale bar, and north arrow has an appropriate size (big enough to read information, small enough to reserve most of space for map layers"
      ],
      "metadata": {
        "id": "s1fIk7zdWZF6"
      }
    },
    {
      "cell_type": "markdown",
      "source": [
        "```markdown\n",
        "https://drive.google.com/file/d/1JVUxhCk8FJTVaE2pOtr5NGDr8sJAzH7b/view?usp=sharing\n",
        "```\n",
        "\n",
        "- After finishing the two steps below, a link can be created to correctly rendered in Google Colab\n",
        "  - Deleted **`/view?usp=sharing`** at the end of the link\n",
        "  - Replaced **`/file/d/`** with **`/uc?export=view&id=`**\n",
        "\n",
        "```markdown\n",
        " https://drive.google.com/uc?export=view&id=1JVUxhCk8FJTVaE2pOtr5NGDr8sJAzH7b\n",
        "```\n",
        "\n",
        "- The map can be inserted in Google Colab following the syntax [from here](https://www.markdownguide.org/cheat-sheet/)\n",
        "\n",
        "```markdown\n",
        "Insert the map here using syntax:\n",
        "![cholera deaths](https://drive.google.com/uc?export=view&id=1JVUxhCk8FJTVaE2pOtr5NGDr8sJAzH7b)\n",
        "```\n",
        "\n",
        "![cholera deaths](https://drive.google.com/uc?export=view&id=1JVUxhCk8FJTVaE2pOtr5NGDr8sJAzH7b)"
      ],
      "metadata": {
        "id": "CTzTj_VIWrDj"
      }
    },
    {
      "cell_type": "markdown",
      "source": [
        "## **Map 3: Hot spots of cholera deaths in Soho, London (1850s)**"
      ],
      "metadata": {
        "id": "Xy1iTFLrp0JH"
      }
    },
    {
      "cell_type": "markdown",
      "source": [
        "- Use the checklist below to make sure our map contains all necessary map content and is formatted correctly\n",
        "\n",
        "  - [ ] Contains a title with byline (i.e., by [your name])\n",
        "  - [ ] Use a larger and bold font type for the title\n",
        "  - [ ] Contains a layer of **pumps**\n",
        "  - [ ] Contains a layer of **hot spots of cholera deaths**\n",
        "  - [ ] Contains a map scale\n",
        "  - [ ] Contains a legend\n",
        "  - [ ] Contains a north arrow\n",
        "  - [ ] Uses a balanced layout for all map elements\n",
        "    - [ ] Map stays in the center of layout\n",
        "    - [ ] Font size of title is appropriate (not too big or too small)\n",
        "    - [ ] Legend, map scale bar, and north arrow are placed appropriately to avoid an overlap with the map layers\n",
        "    - [ ] Legend, map scale bar, and north arrow has an appropriate size (big enough to read information, small enough to reserve most of space for map layers"
      ],
      "metadata": {
        "id": "fjCS886Up_cU"
      }
    },
    {
      "cell_type": "markdown",
      "source": [
        "```markdown\n",
        "https://drive.google.com/file/d/1QIfHr5GWF6INpJdiq-a8arAGqOlCUyfF/view?usp=sharing\n",
        "```\n",
        "\n",
        "- After finishing the two steps below, a link can be created to correctly rendered in Google Colab\n",
        "  - Deleted **`/view?usp=sharing`** at the end of the link\n",
        "  - Replaced **`/file/d/`** with **`/uc?export=view&id=`**\n",
        "\n",
        "```markdown\n",
        "https://drive.google.com/uc?export=view&id=1QIfHr5GWF6INpJdiq-a8arAGqOlCUyfF\n",
        "```\n",
        "\n",
        "- The map can be inserted in Google Colab following the syntax [from here](https://www.markdownguide.org/cheat-sheet/)\n",
        "\n",
        "```markdown\n",
        "Insert the map here using syntax:\n",
        "![cholera hot spot](https://drive.google.com/uc?export=view&id=1QIfHr5GWF6INpJdiq-a8arAGqOlCUyfF)\n",
        "```\n",
        "\n",
        "![cholera hot spot](https://drive.google.com/uc?export=view&id=1QIfHr5GWF6INpJdiq-a8arAGqOlCUyfF)"
      ],
      "metadata": {
        "id": "xn1jvijPqI37"
      }
    },
    {
      "cell_type": "markdown",
      "source": [
        "## **Save and share this notebook**\n",
        "\n",
        "- Make your notebook viewable to others and submit the link to Week 10 assignment of GEO 242A\n",
        "- **Extra Credit (20)**\n",
        "  - **Save the final version of this notebook to your GitHub repository of GEO 242A**\n",
        "    - You can place this notebook under a new folder of `spatial_analysis`\n",
        "    - Update your README document to link the copy of this notebook in the GitHub repository\n",
        "  - Submit a link to your GitHub for Week 10 assignment\n"
      ],
      "metadata": {
        "id": "kkgukjDcXsqC"
      }
    },
    {
      "cell_type": "markdown",
      "source": [
        "## **Reference**\n",
        "\n",
        "- [Markdown cheat sheet](https://www.markdownguide.org/cheat-sheet/)\n",
        "- [Insert other references]"
      ],
      "metadata": {
        "id": "fvMbEX89YLeY"
      }
    }
  ]
}